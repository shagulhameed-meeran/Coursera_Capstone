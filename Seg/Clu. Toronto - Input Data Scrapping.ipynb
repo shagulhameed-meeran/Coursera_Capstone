{
    "nbformat_minor": 1, 
    "cells": [
        {
            "execution_count": 26, 
            "cell_type": "code", 
            "metadata": {}, 
            "outputs": [], 
            "source": "# The code was removed by Watson Studio for sharing."
        }, 
        {
            "source": "# Web scrapping the boroughs and neighbourhoods in Toronto", 
            "cell_type": "markdown", 
            "metadata": {
                "collapsed": true
            }
        }, 
        {
            "source": "### 1. Importing necessary libraries", 
            "cell_type": "markdown", 
            "metadata": {}
        }, 
        {
            "source": "For this assignment, we shall use pandas library to read the HTML table from the wiki page. Also we would require lxml parser to support it", 
            "cell_type": "markdown", 
            "metadata": {}
        }, 
        {
            "execution_count": 27, 
            "cell_type": "code", 
            "metadata": {}, 
            "outputs": [
                {
                    "output_type": "stream", 
                    "name": "stdout", 
                    "text": "Libraries imported\n"
                }
            ], 
            "source": "import requests\nimport lxml.html as lh\nimport pandas as pd\n\nprint(\"Libraries imported\")"
        }, 
        {
            "source": "### 2. Extract data from source", 
            "cell_type": "markdown", 
            "metadata": {}
        }, 
        {
            "source": "We shall read the html source with requests and extract the table data from it", 
            "cell_type": "markdown", 
            "metadata": {}
        }, 
        {
            "execution_count": 28, 
            "cell_type": "code", 
            "metadata": {}, 
            "outputs": [
                {
                    "execution_count": 28, 
                    "metadata": {}, 
                    "data": {
                        "text/html": "<div>\n<style scoped>\n    .dataframe tbody tr th:only-of-type {\n        vertical-align: middle;\n    }\n\n    .dataframe tbody tr th {\n        vertical-align: top;\n    }\n\n    .dataframe thead th {\n        text-align: right;\n    }\n</style>\n<table border=\"1\" class=\"dataframe\">\n  <thead>\n    <tr style=\"text-align: right;\">\n      <th></th>\n      <th>Postcode</th>\n      <th>Borough</th>\n      <th>Neighbourhood</th>\n    </tr>\n  </thead>\n  <tbody>\n    <tr>\n      <th>0</th>\n      <td>M1B</td>\n      <td>Scarborough</td>\n      <td>Rouge,Malvern</td>\n    </tr>\n    <tr>\n      <th>1</th>\n      <td>M1C</td>\n      <td>Scarborough</td>\n      <td>Highland Creek,Rouge Hill,Port Union</td>\n    </tr>\n    <tr>\n      <th>2</th>\n      <td>M1E</td>\n      <td>Scarborough</td>\n      <td>Guildwood,Morningside,West Hill</td>\n    </tr>\n    <tr>\n      <th>3</th>\n      <td>M1G</td>\n      <td>Scarborough</td>\n      <td>Woburn</td>\n    </tr>\n    <tr>\n      <th>4</th>\n      <td>M1H</td>\n      <td>Scarborough</td>\n      <td>Cedarbrae</td>\n    </tr>\n  </tbody>\n</table>\n</div>", 
                        "text/plain": "  Postcode      Borough                         Neighbourhood\n0      M1B  Scarborough                         Rouge,Malvern\n1      M1C  Scarborough  Highland Creek,Rouge Hill,Port Union\n2      M1E  Scarborough       Guildwood,Morningside,West Hill\n3      M1G  Scarborough                                Woburn\n4      M1H  Scarborough                             Cedarbrae"
                    }, 
                    "output_type": "execute_result"
                }
            ], 
            "source": "#Source URL\nurl='https://en.wikipedia.org/wiki/List_of_postal_codes_of_Canada:_M'\n#Create a page handle to handle the contents of the website\npage = requests.get(url)\n#Store the contents of the website under doc\ndoc = lh.fromstring(page.content)\n#Parse data that are stored between <tr>..</tr> of HTML\ntr_elements = doc.xpath('//tr')\n\n#Create empty list\ncol=[]\ni=0\n#For each row, store each first element (header) and an empty list\nfor t in tr_elements[0]:\n    i+=1\n    name=t.text_content().rstrip('\\n') \n    col.append((name,[]))\n    \n\n#Since out first row is the header, data is stored on the second row onwards\nfor j in range(1,len(tr_elements)):\n    #T is our j'th row\n    T=tr_elements[j]\n    \n    #If row is not of size 3, the //tr data is not from our table \n    if len(T)!=3:\n        break\n    \n    #i is the index of our column\n    i=0\n    cburough = None\n    neighborhood = None\n    postcode = None\n    #Iterate through each element of the row\n    for t in T.iterchildren():\n        data=t.text_content().rstrip('\\n') \n        #Assign first column to postcode\n        if i==0:\n            postcode = data\n        #Assign second column to burough\n        if i==1:\n            cburough = data\n            #If burough is having value 'Not assigned', ignore this row\n            if data == 'Not assigned':\n                break\n        #Assign the third column to neighborhood\n        if i==2:\n            neighborhood = data;\n            #If neighborhood is having the value 'Not assigned', assign it with borough's name\n            if data == 'Not assigned':\n                neighborhood = cburough\n        #Increment i for the next column\n        i+=1\n    #Append the data to the empty list of the all three columns only when all column has values\n    if postcode != None and cburough != None and neighborhood != None:\n        col[0][1].append(postcode)\n        col[1][1].append(cburough)\n        col[2][1].append(neighborhood)\n\n#Convert the list to pandas dataframe\nDict={title:column for (title,column) in col}\ndf=pd.DataFrame(Dict)\n#Group the neighborhoods with same postcode to be put together as comma separated\ndf = df.groupby([\"Postcode\",\"Borough\"])['Neighbourhood'].apply(','.join).reset_index()\ndf.head()"
        }, 
        {
            "execution_count": 29, 
            "cell_type": "code", 
            "metadata": {}, 
            "outputs": [
                {
                    "execution_count": 29, 
                    "metadata": {}, 
                    "data": {
                        "text/plain": "(103, 3)"
                    }, 
                    "output_type": "execute_result"
                }
            ], 
            "source": "# Save dataframe as csv file to storage for later processing\nproject.save_data(data=df.to_csv(index=False),file_name='toronto_dataframe.csv',overwrite=True)\n#Print the dataframe shape\ndf.shape"
        }, 
        {
            "execution_count": null, 
            "cell_type": "code", 
            "metadata": {}, 
            "outputs": [], 
            "source": ""
        }
    ], 
    "metadata": {
        "kernelspec": {
            "display_name": "Python 3.6", 
            "name": "python3", 
            "language": "python"
        }, 
        "language_info": {
            "mimetype": "text/x-python", 
            "nbconvert_exporter": "python", 
            "version": "3.6.8", 
            "name": "python", 
            "file_extension": ".py", 
            "pygments_lexer": "ipython3", 
            "codemirror_mode": {
                "version": 3, 
                "name": "ipython"
            }
        }
    }, 
    "nbformat": 4
}